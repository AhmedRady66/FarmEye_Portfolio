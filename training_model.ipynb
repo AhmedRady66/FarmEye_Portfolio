{
 "cells": [
  {
   "cell_type": "markdown",
   "metadata": {},
   "source": [
    "# Importing libraries"
   ]
  },
  {
   "cell_type": "code",
   "execution_count": 1,
   "metadata": {},
   "outputs": [],
   "source": [
    "import tensorflow as tf\n",
    "import matplotlib.pyplot as plt"
   ]
  },
  {
   "cell_type": "markdown",
   "metadata": {},
   "source": [
    "# Training For Image"
   ]
  },
  {
   "cell_type": "code",
   "execution_count": 2,
   "metadata": {},
   "outputs": [
    {
     "name": "stdout",
     "output_type": "stream",
     "text": [
      "Found 3115 files belonging to 36 classes.\n"
     ]
    }
   ],
   "source": [
    "training_set = tf.keras.utils.image_dataset_from_directory(\n",
    "    'train',\n",
    "    labels='inferred',\n",
    "    label_mode='categorical',\n",
    "    class_names=None,\n",
    "    color_mode='rgb',\n",
    "    batch_size=32,\n",
    "    image_size=(64,64),\n",
    "    shuffle=True,\n",
    "    seed=None,\n",
    "    validation_split=None,\n",
    "    subset=None,\n",
    "    interpolation='bilinear',\n",
    "    follow_links=False,\n",
    "    crop_to_aspect_ratio=False\n",
    ")"
   ]
  },
  {
   "cell_type": "markdown",
   "metadata": {},
   "source": [
    "# Validation For Image"
   ]
  },
  {
   "cell_type": "code",
   "execution_count": 3,
   "metadata": {},
   "outputs": [
    {
     "name": "stdout",
     "output_type": "stream",
     "text": [
      "Found 351 files belonging to 36 classes.\n"
     ]
    }
   ],
   "source": [
    "validation_set = tf.keras.utils.image_dataset_from_directory(\n",
    "    'valid',\n",
    "    labels='inferred',\n",
    "    label_mode='categorical',\n",
    "    class_names=None,\n",
    "    color_mode='rgb',\n",
    "    batch_size=32,\n",
    "    image_size=(64,64),\n",
    "    shuffle=True,\n",
    "    seed=None,\n",
    "    validation_split=None,\n",
    "    subset=None,\n",
    "    interpolation='bilinear',\n",
    "    follow_links=False,\n",
    "    crop_to_aspect_ratio=False\n",
    ")"
   ]
  },
  {
   "cell_type": "markdown",
   "metadata": {},
   "source": [
    "# Building Model"
   ]
  },
  {
   "cell_type": "code",
   "execution_count": 5,
   "metadata": {},
   "outputs": [],
   "source": [
    "cnn=tf.keras.models.Sequential()"
   ]
  },
  {
   "cell_type": "markdown",
   "metadata": {},
   "source": [
    "# Buliding Convolution Layer"
   ]
  },
  {
   "cell_type": "code",
   "execution_count": 6,
   "metadata": {},
   "outputs": [],
   "source": [
    "cnn.add(tf.keras.layers.Conv2D(filters=32,kernel_size=3,activation='relu',input_shape=[64,64,3]))\n",
    "cnn.add(tf.keras.layers.Conv2D(filters=32,kernel_size=3,activation='relu'))\n",
    "cnn.add(tf.keras.layers.MaxPool2D(pool_size=2,strides=2))"
   ]
  },
  {
   "cell_type": "code",
   "execution_count": 7,
   "metadata": {},
   "outputs": [],
   "source": [
    "# Do it again to reduce the size of matrix to just focus on important elements in image\n",
    "cnn.add(tf.keras.layers.Conv2D(filters=64,kernel_size=3,activation='relu'))\n",
    "cnn.add(tf.keras.layers.Conv2D(filters=64,kernel_size=3,activation='relu'))\n",
    "cnn.add(tf.keras.layers.MaxPool2D(pool_size=2,strides=2))"
   ]
  },
  {
   "cell_type": "code",
   "execution_count": 8,
   "metadata": {},
   "outputs": [],
   "source": [
    "cnn.add(tf.keras.layers.Flatten())"
   ]
  },
  {
   "cell_type": "code",
   "execution_count": 9,
   "metadata": {},
   "outputs": [],
   "source": [
    "cnn.add(tf.keras.layers.Dense(units=512,activation='relu')) # Hidden layers"
   ]
  },
  {
   "cell_type": "code",
   "execution_count": 10,
   "metadata": {},
   "outputs": [],
   "source": [
    "cnn.add(tf.keras.layers.Dense(units=256,activation='relu')) # Hidden layers"
   ]
  },
  {
   "cell_type": "code",
   "execution_count": 11,
   "metadata": {},
   "outputs": [],
   "source": [
    "cnn.add(tf.keras.layers.Dropout(0.5)) # To avoid overfitting"
   ]
  },
  {
   "cell_type": "code",
   "execution_count": 12,
   "metadata": {},
   "outputs": [],
   "source": [
    "cnn.add(tf.keras.layers.Dense(units=36,activation='softmax')) # Output Layer"
   ]
  },
  {
   "cell_type": "code",
   "execution_count": 13,
   "metadata": {},
   "outputs": [
    {
     "name": "stdout",
     "output_type": "stream",
     "text": [
      "Model: \"sequential\"\n",
      "_________________________________________________________________\n",
      " Layer (type)                Output Shape              Param #   \n",
      "=================================================================\n",
      " conv2d (Conv2D)             (None, 62, 62, 32)        896       \n",
      "                                                                 \n",
      " conv2d_1 (Conv2D)           (None, 60, 60, 32)        9248      \n",
      "                                                                 \n",
      " max_pooling2d (MaxPooling2D  (None, 30, 30, 32)       0         \n",
      " )                                                               \n",
      "                                                                 \n",
      " conv2d_2 (Conv2D)           (None, 28, 28, 64)        18496     \n",
      "                                                                 \n",
      " conv2d_3 (Conv2D)           (None, 26, 26, 64)        36928     \n",
      "                                                                 \n",
      " max_pooling2d_1 (MaxPooling  (None, 13, 13, 64)       0         \n",
      " 2D)                                                             \n",
      "                                                                 \n",
      " flatten (Flatten)           (None, 10816)             0         \n",
      "                                                                 \n",
      " dense (Dense)               (None, 512)               5538304   \n",
      "                                                                 \n",
      " dense_1 (Dense)             (None, 256)               131328    \n",
      "                                                                 \n",
      " dropout (Dropout)           (None, 256)               0         \n",
      "                                                                 \n",
      " dense_2 (Dense)             (None, 36)                9252      \n",
      "                                                                 \n",
      "=================================================================\n",
      "Total params: 5,744,452\n",
      "Trainable params: 5,744,452\n",
      "Non-trainable params: 0\n",
      "_________________________________________________________________\n"
     ]
    }
   ],
   "source": [
    "cnn.summary()"
   ]
  },
  {
   "cell_type": "markdown",
   "metadata": {},
   "source": [
    "# Compiling and Training"
   ]
  },
  {
   "cell_type": "code",
   "execution_count": 14,
   "metadata": {},
   "outputs": [],
   "source": [
    "cnn.compile(optimizer='adam',loss='categorical_crossentropy',metrics=['accuracy'])"
   ]
  },
  {
   "cell_type": "code",
   "execution_count": 15,
   "metadata": {},
   "outputs": [
    {
     "name": "stdout",
     "output_type": "stream",
     "text": [
      "Epoch 1/32\n",
      "98/98 [==============================] - 41s 346ms/step - loss: 5.2727 - accuracy: 0.0289 - val_loss: 3.5741 - val_accuracy: 0.0484\n",
      "Epoch 2/32\n",
      "98/98 [==============================] - 30s 277ms/step - loss: 3.5391 - accuracy: 0.0488 - val_loss: 3.4999 - val_accuracy: 0.1111\n",
      "Epoch 3/32\n",
      "98/98 [==============================] - 30s 278ms/step - loss: 3.4428 - accuracy: 0.0790 - val_loss: 3.1696 - val_accuracy: 0.2507\n",
      "Epoch 4/32\n",
      "98/98 [==============================] - 30s 279ms/step - loss: 3.2697 - accuracy: 0.1271 - val_loss: 2.9687 - val_accuracy: 0.3105\n",
      "Epoch 5/32\n",
      "98/98 [==============================] - 30s 282ms/step - loss: 3.0759 - accuracy: 0.1872 - val_loss: 2.5499 - val_accuracy: 0.4074\n",
      "Epoch 6/32\n",
      "98/98 [==============================] - 31s 286ms/step - loss: 2.7808 - accuracy: 0.2549 - val_loss: 2.1451 - val_accuracy: 0.5043\n",
      "Epoch 7/32\n",
      "98/98 [==============================] - 30s 279ms/step - loss: 2.5193 - accuracy: 0.3217 - val_loss: 2.0028 - val_accuracy: 0.4957\n",
      "Epoch 8/32\n",
      "98/98 [==============================] - 29s 276ms/step - loss: 2.2331 - accuracy: 0.3939 - val_loss: 2.1153 - val_accuracy: 0.4957\n",
      "Epoch 9/32\n",
      "98/98 [==============================] - 33s 308ms/step - loss: 1.9789 - accuracy: 0.4636 - val_loss: 1.6927 - val_accuracy: 0.6125\n",
      "Epoch 10/32\n",
      "98/98 [==============================] - 30s 277ms/step - loss: 1.8309 - accuracy: 0.5027 - val_loss: 1.5012 - val_accuracy: 0.6268\n",
      "Epoch 11/32\n",
      "98/98 [==============================] - 29s 271ms/step - loss: 1.6288 - accuracy: 0.5592 - val_loss: 1.3744 - val_accuracy: 0.6610\n",
      "Epoch 12/32\n",
      "98/98 [==============================] - 29s 271ms/step - loss: 1.4429 - accuracy: 0.6083 - val_loss: 1.3547 - val_accuracy: 0.6952\n",
      "Epoch 13/32\n",
      "98/98 [==============================] - 29s 277ms/step - loss: 1.3316 - accuracy: 0.6424 - val_loss: 1.1368 - val_accuracy: 0.7521\n",
      "Epoch 14/32\n",
      "98/98 [==============================] - 29s 272ms/step - loss: 1.1633 - accuracy: 0.6828 - val_loss: 1.0354 - val_accuracy: 0.7806\n",
      "Epoch 15/32\n",
      "98/98 [==============================] - 29s 275ms/step - loss: 1.0338 - accuracy: 0.7140 - val_loss: 0.9484 - val_accuracy: 0.7778\n",
      "Epoch 16/32\n",
      "98/98 [==============================] - 30s 280ms/step - loss: 0.9880 - accuracy: 0.7329 - val_loss: 1.0365 - val_accuracy: 0.7664\n",
      "Epoch 17/32\n",
      "98/98 [==============================] - 30s 281ms/step - loss: 0.9319 - accuracy: 0.7464 - val_loss: 1.0637 - val_accuracy: 0.7835\n",
      "Epoch 18/32\n",
      "98/98 [==============================] - 31s 287ms/step - loss: 0.8436 - accuracy: 0.7740 - val_loss: 1.0297 - val_accuracy: 0.8091\n",
      "Epoch 19/32\n",
      "98/98 [==============================] - 31s 289ms/step - loss: 0.7833 - accuracy: 0.7936 - val_loss: 0.9925 - val_accuracy: 0.8319\n",
      "Epoch 20/32\n",
      "98/98 [==============================] - 31s 290ms/step - loss: 0.8522 - accuracy: 0.7657 - val_loss: 0.8806 - val_accuracy: 0.8462\n",
      "Epoch 21/32\n",
      "98/98 [==============================] - 31s 289ms/step - loss: 0.6627 - accuracy: 0.8270 - val_loss: 0.6730 - val_accuracy: 0.8689\n",
      "Epoch 22/32\n",
      "98/98 [==============================] - 29s 277ms/step - loss: 0.5850 - accuracy: 0.8446 - val_loss: 0.8566 - val_accuracy: 0.8632\n",
      "Epoch 23/32\n",
      "98/98 [==============================] - 31s 291ms/step - loss: 0.6100 - accuracy: 0.8404 - val_loss: 0.8366 - val_accuracy: 0.8291\n",
      "Epoch 24/32\n",
      "98/98 [==============================] - 30s 276ms/step - loss: 0.5146 - accuracy: 0.8703 - val_loss: 0.8686 - val_accuracy: 0.8319\n",
      "Epoch 25/32\n",
      "98/98 [==============================] - 30s 277ms/step - loss: 0.4903 - accuracy: 0.8697 - val_loss: 0.6852 - val_accuracy: 0.8775\n",
      "Epoch 26/32\n",
      "98/98 [==============================] - 29s 271ms/step - loss: 0.4462 - accuracy: 0.8812 - val_loss: 0.6163 - val_accuracy: 0.9031\n",
      "Epoch 27/32\n",
      "98/98 [==============================] - 29s 270ms/step - loss: 0.4261 - accuracy: 0.8902 - val_loss: 0.6358 - val_accuracy: 0.8946\n",
      "Epoch 28/32\n",
      "98/98 [==============================] - 30s 283ms/step - loss: 0.4068 - accuracy: 0.8937 - val_loss: 0.5344 - val_accuracy: 0.9003\n",
      "Epoch 29/32\n",
      "98/98 [==============================] - 29s 272ms/step - loss: 0.3619 - accuracy: 0.8998 - val_loss: 0.6209 - val_accuracy: 0.9117\n",
      "Epoch 30/32\n",
      "98/98 [==============================] - 29s 272ms/step - loss: 0.4148 - accuracy: 0.8889 - val_loss: 0.7471 - val_accuracy: 0.8917\n",
      "Epoch 31/32\n",
      "98/98 [==============================] - 29s 271ms/step - loss: 0.3569 - accuracy: 0.9091 - val_loss: 0.4425 - val_accuracy: 0.9430\n",
      "Epoch 32/32\n",
      "98/98 [==============================] - 29s 270ms/step - loss: 0.3181 - accuracy: 0.9152 - val_loss: 0.5454 - val_accuracy: 0.9288\n"
     ]
    }
   ],
   "source": [
    "training_history=cnn.fit(x=training_set,validation_data=validation_set,epochs=32)"
   ]
  },
  {
   "cell_type": "markdown",
   "metadata": {},
   "source": [
    "# Saving Model"
   ]
  },
  {
   "cell_type": "code",
   "execution_count": 18,
   "metadata": {},
   "outputs": [],
   "source": [
    "cnn.save('training_model.h5')"
   ]
  },
  {
   "cell_type": "code",
   "execution_count": 19,
   "metadata": {},
   "outputs": [
    {
     "data": {
      "text/plain": [
       "{'loss': [5.272712707519531,\n",
       "  3.539074659347534,\n",
       "  3.442797899246216,\n",
       "  3.2697322368621826,\n",
       "  3.075932025909424,\n",
       "  2.78084397315979,\n",
       "  2.519263982772827,\n",
       "  2.2330896854400635,\n",
       "  1.9789401292800903,\n",
       "  1.8308650255203247,\n",
       "  1.6287943124771118,\n",
       "  1.4428751468658447,\n",
       "  1.3316280841827393,\n",
       "  1.1633379459381104,\n",
       "  1.0337525606155396,\n",
       "  0.9880022406578064,\n",
       "  0.9319136142730713,\n",
       "  0.8435757756233215,\n",
       "  0.7833049297332764,\n",
       "  0.8521578311920166,\n",
       "  0.6627257466316223,\n",
       "  0.5849705934524536,\n",
       "  0.6100131869316101,\n",
       "  0.5146089792251587,\n",
       "  0.49027496576309204,\n",
       "  0.4461541473865509,\n",
       "  0.42611265182495117,\n",
       "  0.4068264067173004,\n",
       "  0.361919641494751,\n",
       "  0.4147534668445587,\n",
       "  0.35690581798553467,\n",
       "  0.31813955307006836],\n",
       " 'accuracy': [0.028892455622553825,\n",
       "  0.048796147108078,\n",
       "  0.0789727121591568,\n",
       "  0.1271268129348755,\n",
       "  0.18715891242027283,\n",
       "  0.2548956573009491,\n",
       "  0.321669340133667,\n",
       "  0.39390048384666443,\n",
       "  0.4635634124279022,\n",
       "  0.5027287602424622,\n",
       "  0.5592295527458191,\n",
       "  0.608346700668335,\n",
       "  0.6423755884170532,\n",
       "  0.6828250288963318,\n",
       "  0.7139647006988525,\n",
       "  0.7329052686691284,\n",
       "  0.7463884353637695,\n",
       "  0.7739967703819275,\n",
       "  0.7935794591903687,\n",
       "  0.7656500935554504,\n",
       "  0.8269662857055664,\n",
       "  0.844622790813446,\n",
       "  0.8404494524002075,\n",
       "  0.8703050017356873,\n",
       "  0.8696629405021667,\n",
       "  0.8812199234962463,\n",
       "  0.8902086615562439,\n",
       "  0.8937399387359619,\n",
       "  0.899839460849762,\n",
       "  0.8889245390892029,\n",
       "  0.9091492891311646,\n",
       "  0.9152488112449646],\n",
       " 'val_loss': [3.574098825454712,\n",
       "  3.499933958053589,\n",
       "  3.1695778369903564,\n",
       "  2.9687023162841797,\n",
       "  2.549863576889038,\n",
       "  2.145096778869629,\n",
       "  2.002847194671631,\n",
       "  2.115255832672119,\n",
       "  1.6927212476730347,\n",
       "  1.501157522201538,\n",
       "  1.3743771314620972,\n",
       "  1.3547427654266357,\n",
       "  1.1368166208267212,\n",
       "  1.0353572368621826,\n",
       "  0.9484107494354248,\n",
       "  1.0364779233932495,\n",
       "  1.0636777877807617,\n",
       "  1.0297465324401855,\n",
       "  0.9924557209014893,\n",
       "  0.8806171417236328,\n",
       "  0.6730061769485474,\n",
       "  0.8565649390220642,\n",
       "  0.8365796804428101,\n",
       "  0.8686114549636841,\n",
       "  0.685214102268219,\n",
       "  0.616252601146698,\n",
       "  0.6358376741409302,\n",
       "  0.5344201326370239,\n",
       "  0.6208784580230713,\n",
       "  0.7470577955245972,\n",
       "  0.442527711391449,\n",
       "  0.5453855395317078],\n",
       " 'val_accuracy': [0.04843304678797722,\n",
       "  0.1111111119389534,\n",
       "  0.25071224570274353,\n",
       "  0.3105413019657135,\n",
       "  0.40740740299224854,\n",
       "  0.504273533821106,\n",
       "  0.49572649598121643,\n",
       "  0.49572649598121643,\n",
       "  0.6125355958938599,\n",
       "  0.62678062915802,\n",
       "  0.6609686613082886,\n",
       "  0.6951566934585571,\n",
       "  0.752136766910553,\n",
       "  0.7806267738342285,\n",
       "  0.7777777910232544,\n",
       "  0.7663817405700684,\n",
       "  0.7834757566452026,\n",
       "  0.809116780757904,\n",
       "  0.8319088220596313,\n",
       "  0.8461538553237915,\n",
       "  0.8689458966255188,\n",
       "  0.8632478713989258,\n",
       "  0.8290598392486572,\n",
       "  0.8319088220596313,\n",
       "  0.8774929046630859,\n",
       "  0.9031339287757874,\n",
       "  0.8945869207382202,\n",
       "  0.9002848863601685,\n",
       "  0.9116809368133545,\n",
       "  0.8917378783226013,\n",
       "  0.9430199265480042,\n",
       "  0.9287749528884888]}"
      ]
     },
     "execution_count": 19,
     "metadata": {},
     "output_type": "execute_result"
    }
   ],
   "source": [
    "training_history.history # Return Dictionary of history"
   ]
  },
  {
   "cell_type": "code",
   "execution_count": 20,
   "metadata": {},
   "outputs": [],
   "source": [
    "# Recording the history of training in json file\n",
    "import json\n",
    "with open('training_hist.json', 'w') as f:\n",
    "    json.dump(training_history.history, f)"
   ]
  },
  {
   "cell_type": "code",
   "execution_count": 21,
   "metadata": {},
   "outputs": [
    {
     "name": "stdout",
     "output_type": "stream",
     "text": [
      "dict_keys(['loss', 'accuracy', 'val_loss', 'val_accuracy'])\n"
     ]
    }
   ],
   "source": [
    "print(training_history.history.keys())"
   ]
  },
  {
   "cell_type": "markdown",
   "metadata": {},
   "source": [
    "# Calculating Model's accuracy of Validation set"
   ]
  },
  {
   "cell_type": "code",
   "execution_count": 22,
   "metadata": {},
   "outputs": [
    {
     "name": "stdout",
     "output_type": "stream",
     "text": [
      "Validation Accuracy: 92.87749528884888 %\n"
     ]
    }
   ],
   "source": [
    "print(f\"Validation Accuracy: {training_history.history['val_accuracy'][-1] * 100} %\")"
   ]
  },
  {
   "cell_type": "markdown",
   "metadata": {},
   "source": [
    "# Accuracy Visualization"
   ]
  },
  {
   "cell_type": "markdown",
   "metadata": {},
   "source": [
    "# Training Visualization"
   ]
  },
  {
   "cell_type": "code",
   "execution_count": 23,
   "metadata": {},
   "outputs": [],
   "source": [
    "epochs = [i for i in range(1, 33)] "
   ]
  },
  {
   "cell_type": "code",
   "execution_count": 24,
   "metadata": {},
   "outputs": [
    {
     "data": {
      "image/png": "[encoded data removed]",
      "text/plain": [
       "<Figure size 640x480 with 1 Axes>"
      ]
     },
     "metadata": {},
     "output_type": "display_data"
    }
   ],
   "source": [
    "plt.plot(epochs, training_history.history['accuracy'], color='red')\n",
    "plt.xlabel(\"No. of Epoches\")\n",
    "plt.ylabel(\"TrainingAccuracy\")\n",
    "plt.title(\"Visualization of Training Accuracy Results\")\n",
    "plt.show()"
   ]
  },
  {
   "cell_type": "markdown",
   "metadata": {},
   "source": [
    "# Validation Accuracy"
   ]
  },
  {
   "cell_type": "code",
   "execution_count": 25,
   "metadata": {},
   "outputs": [
    {
     "data": {
      "image/png": "[encoded data removed]",
      "text/plain": [
       "<Figure size 640x480 with 1 Axes>"
      ]
     },
     "metadata": {},
     "output_type": "display_data"
    }
   ],
   "source": [
    "plt.plot(epochs, training_history.history['val_accuracy'], color='blue')\n",
    "plt.xlabel('No. of Epoches')\n",
    "plt.ylabel('Validatoin Accuracy')\n",
    "plt.title('Visualization of Validation Accuracy Results')\n",
    "plt.show()"
   ]
  }
 ],
 "metadata": {
  "kernelspec": {
   "display_name": "tensorflow_env",
   "language": "python",
   "name": "python3"
  },
  "language_info": {
   "codemirror_mode": {
    "name": "ipython",
    "version": 3
   },
   "file_extension": ".py",
   "mimetype": "text/x-python",
   "name": "python",
   "nbconvert_exporter": "python",
   "pygments_lexer": "ipython3",
   "version": "3.10.16"
  }
 },
 "nbformat": 4,
 "nbformat_minor": 2
}

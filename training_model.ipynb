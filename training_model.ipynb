{
 "cells": [
  {
   "cell_type": "markdown",
   "metadata": {},
   "source": [
    "# Importing libraries"
   ]
  },
  {
   "cell_type": "code",
   "execution_count": 1,
   "metadata": {},
   "outputs": [],
   "source": [
    "import numpy as np\n",
    "import tensorflow as tf\n",
    "import matplotlib.pyplot as plt"
   ]
  },
  {
   "cell_type": "markdown",
   "metadata": {},
   "source": [
    "# Training For Image"
   ]
  },
  {
   "cell_type": "code",
   "execution_count": 33,
   "metadata": {},
   "outputs": [
    {
     "name": "stdout",
     "output_type": "stream",
     "text": [
      "Found 3115 files belonging to 36 classes.\n"
     ]
    }
   ],
   "source": [
    "training_set = tf.keras.utils.image_dataset_from_directory(\n",
    "    r'C:\\Users\\HP\\OneDrive\\Desktop\\FarmEye_Portfolio\\train',\n",
    "    labels = 'inferred',\n",
    "    label_mode = 'categorical',\n",
    "    class_names = None,\n",
    "    color_mode = 'rgb',\n",
    "    batch_size = 32,\n",
    "    image_size = (64, 64),\n",
    "    shuffle = True,\n",
    "    seed = None,\n",
    "    validation_split = None,\n",
    "    subset = None,\n",
    "    interpolation = 'bilinear',\n",
    "    follow_links = False,\n",
    "    crop_to_aspect_ratio = False\n",
    ")"
   ]
  },
  {
   "cell_type": "markdown",
   "metadata": {},
   "source": [
    "# Validation For Image"
   ]
  },
  {
   "cell_type": "code",
   "execution_count": 34,
   "metadata": {},
   "outputs": [
    {
     "name": "stdout",
     "output_type": "stream",
     "text": [
      "Found 351 files belonging to 36 classes.\n"
     ]
    }
   ],
   "source": [
    "validation_set = tf.keras.utils.image_dataset_from_directory(\n",
    "    r'C:\\Users\\HP\\OneDrive\\Desktop\\FarmEye_Portfolio\\valid',\n",
    "    labels = 'inferred',\n",
    "    label_mode = 'categorical',\n",
    "    class_names = None,\n",
    "    color_mode = 'rgb',\n",
    "    batch_size = 32,\n",
    "    image_size = (64, 64),\n",
    "    shuffle = True,\n",
    "    seed = None,\n",
    "    validation_split = None,\n",
    "    subset = None,\n",
    "    interpolation = 'bilinear',\n",
    "    follow_links = False,\n",
    "    crop_to_aspect_ratio = False\n",
    ")"
   ]
  },
  {
   "cell_type": "markdown",
   "metadata": {},
   "source": [
    "# Building Model"
   ]
  },
  {
   "cell_type": "code",
   "execution_count": 35,
   "metadata": {},
   "outputs": [],
   "source": [
    "cnn = tf.keras.models.Sequential()"
   ]
  },
  {
   "cell_type": "markdown",
   "metadata": {},
   "source": [
    "# Buliding Convolution Layer"
   ]
  },
  {
   "cell_type": "code",
   "execution_count": 36,
   "metadata": {},
   "outputs": [],
   "source": [
    "cnn.add(tf.keras.layers.Conv2D(filters=32,kernel_size=3,activation='relu',input_shape=[64,64,3]))\n",
    "cnn.add(tf.keras.layers.Conv2D(filters=32,kernel_size=3,activation='relu'))\n",
    "cnn.add(tf.keras.layers.MaxPool2D(pool_size=2,strides=2))"
   ]
  },
  {
   "cell_type": "code",
   "execution_count": 37,
   "metadata": {},
   "outputs": [],
   "source": [
    "# Do it again to reduce the size of matrix to just focus on important elements in image\n",
    "cnn.add(tf.keras.layers.Conv2D(filters=64,kernel_size=3,activation='relu'))\n",
    "cnn.add(tf.keras.layers.Conv2D(filters=64,kernel_size=3,activation='relu'))\n",
    "cnn.add(tf.keras.layers.MaxPool2D(pool_size=2,strides=2))"
   ]
  },
  {
   "cell_type": "code",
   "execution_count": 38,
   "metadata": {},
   "outputs": [],
   "source": [
    "cnn.add(tf.keras.layers.Flatten())"
   ]
  },
  {
   "cell_type": "code",
   "execution_count": 39,
   "metadata": {},
   "outputs": [],
   "source": [
    "cnn.add(tf.keras.layers.Dense(units=512,activation='relu')) # Hidden layers"
   ]
  },
  {
   "cell_type": "code",
   "execution_count": 40,
   "metadata": {},
   "outputs": [],
   "source": [
    "cnn.add(tf.keras.layers.Dense(units=256,activation='relu')) # Hidden layers"
   ]
  },
  {
   "cell_type": "code",
   "execution_count": 41,
   "metadata": {},
   "outputs": [],
   "source": [
    "cnn.add(tf.keras.layers.Dropout(0.5)) # To avoid overfitting"
   ]
  },
  {
   "cell_type": "code",
   "execution_count": 42,
   "metadata": {},
   "outputs": [],
   "source": [
    "cnn.add(tf.keras.layers.Dense(units=36,activation='softmax')) # Output Layer"
   ]
  },
  {
   "cell_type": "code",
   "execution_count": 43,
   "metadata": {},
   "outputs": [
    {
     "name": "stdout",
     "output_type": "stream",
     "text": [
      "Model: \"sequential_1\"\n",
      "_________________________________________________________________\n",
      " Layer (type)                Output Shape              Param #   \n",
      "=================================================================\n",
      " conv2d_3 (Conv2D)           (None, 62, 62, 32)        896       \n",
      "                                                                 \n",
      " conv2d_4 (Conv2D)           (None, 60, 60, 32)        9248      \n",
      "                                                                 \n",
      " max_pooling2d_2 (MaxPooling  (None, 30, 30, 32)       0         \n",
      " 2D)                                                             \n",
      "                                                                 \n",
      " conv2d_5 (Conv2D)           (None, 28, 28, 64)        18496     \n",
      "                                                                 \n",
      " conv2d_6 (Conv2D)           (None, 26, 26, 64)        36928     \n",
      "                                                                 \n",
      " max_pooling2d_3 (MaxPooling  (None, 13, 13, 64)       0         \n",
      " 2D)                                                             \n",
      "                                                                 \n",
      " flatten_1 (Flatten)         (None, 10816)             0         \n",
      "                                                                 \n",
      " dense_2 (Dense)             (None, 512)               5538304   \n",
      "                                                                 \n",
      " dense_3 (Dense)             (None, 256)               131328    \n",
      "                                                                 \n",
      " dropout_1 (Dropout)         (None, 256)               0         \n",
      "                                                                 \n",
      " dense_4 (Dense)             (None, 36)                9252      \n",
      "                                                                 \n",
      "=================================================================\n",
      "Total params: 5,744,452\n",
      "Trainable params: 5,744,452\n",
      "Non-trainable params: 0\n",
      "_________________________________________________________________\n"
     ]
    }
   ],
   "source": [
    "cnn.summary()"
   ]
  },
  {
   "cell_type": "markdown",
   "metadata": {},
   "source": [
    "# Compiling and Training"
   ]
  },
  {
   "cell_type": "code",
   "execution_count": 44,
   "metadata": {},
   "outputs": [],
   "source": [
    "cnn.compile(optimizer='adam',loss='categorical_crossentropy',metrics=['accuracy'])"
   ]
  },
  {
   "cell_type": "code",
   "execution_count": 45,
   "metadata": {},
   "outputs": [
    {
     "name": "stdout",
     "output_type": "stream",
     "text": [
      "Epoch 1/32\n",
      "98/98 [==============================] - 37s 334ms/step - loss: 5.1111 - accuracy: 0.0417 - val_loss: 3.4339 - val_accuracy: 0.0940\n",
      "Epoch 2/32\n",
      "98/98 [==============================] - 33s 314ms/step - loss: 3.4196 - accuracy: 0.0616 - val_loss: 3.3362 - val_accuracy: 0.1197\n",
      "Epoch 3/32\n",
      "98/98 [==============================] - 31s 294ms/step - loss: 3.2783 - accuracy: 0.0761 - val_loss: 2.9277 - val_accuracy: 0.2023\n",
      "Epoch 4/32\n",
      "98/98 [==============================] - 32s 302ms/step - loss: 3.1303 - accuracy: 0.1185 - val_loss: 2.6988 - val_accuracy: 0.2849\n",
      "Epoch 5/32\n",
      "98/98 [==============================] - 31s 292ms/step - loss: 2.9127 - accuracy: 0.1705 - val_loss: 2.3195 - val_accuracy: 0.4074\n",
      "Epoch 6/32\n",
      "98/98 [==============================] - 31s 294ms/step - loss: 2.5976 - accuracy: 0.2645 - val_loss: 1.9175 - val_accuracy: 0.5071\n",
      "Epoch 7/32\n",
      "98/98 [==============================] - 31s 290ms/step - loss: 2.2135 - accuracy: 0.3830 - val_loss: 1.7334 - val_accuracy: 0.5755\n",
      "Epoch 8/32\n",
      "98/98 [==============================] - 32s 304ms/step - loss: 1.9299 - accuracy: 0.4430 - val_loss: 1.2720 - val_accuracy: 0.6553\n",
      "Epoch 9/32\n",
      "98/98 [==============================] - 31s 291ms/step - loss: 1.5646 - accuracy: 0.5554 - val_loss: 1.1166 - val_accuracy: 0.7208\n",
      "Epoch 10/32\n",
      "98/98 [==============================] - 31s 293ms/step - loss: 1.2865 - accuracy: 0.6411 - val_loss: 0.8897 - val_accuracy: 0.8063\n",
      "Epoch 11/32\n",
      "98/98 [==============================] - 30s 283ms/step - loss: 1.0968 - accuracy: 0.6909 - val_loss: 0.7076 - val_accuracy: 0.8547\n",
      "Epoch 12/32\n",
      "98/98 [==============================] - 30s 283ms/step - loss: 0.8041 - accuracy: 0.7679 - val_loss: 0.6681 - val_accuracy: 0.8348\n",
      "Epoch 13/32\n",
      "98/98 [==============================] - 29s 276ms/step - loss: 0.8737 - accuracy: 0.7653 - val_loss: 0.5849 - val_accuracy: 0.8575\n",
      "Epoch 14/32\n",
      "98/98 [==============================] - 29s 276ms/step - loss: 0.6858 - accuracy: 0.8125 - val_loss: 0.6414 - val_accuracy: 0.8775\n",
      "Epoch 15/32\n",
      "98/98 [==============================] - 29s 274ms/step - loss: 0.6087 - accuracy: 0.8385 - val_loss: 0.5272 - val_accuracy: 0.8775\n",
      "Epoch 16/32\n",
      "98/98 [==============================] - 29s 276ms/step - loss: 0.5549 - accuracy: 0.8465 - val_loss: 0.5095 - val_accuracy: 0.9003\n",
      "Epoch 17/32\n",
      "98/98 [==============================] - 30s 281ms/step - loss: 0.4325 - accuracy: 0.8770 - val_loss: 0.5363 - val_accuracy: 0.8974\n",
      "Epoch 18/32\n",
      "98/98 [==============================] - 30s 280ms/step - loss: 0.4311 - accuracy: 0.8848 - val_loss: 0.4312 - val_accuracy: 0.9288\n",
      "Epoch 19/32\n",
      "98/98 [==============================] - 29s 279ms/step - loss: 0.4114 - accuracy: 0.8925 - val_loss: 0.4578 - val_accuracy: 0.9373\n",
      "Epoch 20/32\n",
      "98/98 [==============================] - 29s 276ms/step - loss: 0.3200 - accuracy: 0.9146 - val_loss: 0.4787 - val_accuracy: 0.9145\n",
      "Epoch 21/32\n",
      "98/98 [==============================] - 30s 286ms/step - loss: 0.3434 - accuracy: 0.9082 - val_loss: 0.3822 - val_accuracy: 0.9145\n",
      "Epoch 22/32\n",
      "98/98 [==============================] - 30s 287ms/step - loss: 0.2635 - accuracy: 0.9252 - val_loss: 0.4051 - val_accuracy: 0.9231\n",
      "Epoch 23/32\n",
      "98/98 [==============================] - 32s 298ms/step - loss: 0.2869 - accuracy: 0.9207 - val_loss: 0.4688 - val_accuracy: 0.9060\n",
      "Epoch 24/32\n",
      "98/98 [==============================] - 31s 296ms/step - loss: 0.2784 - accuracy: 0.9265 - val_loss: 0.5709 - val_accuracy: 0.9060\n",
      "Epoch 25/32\n",
      "98/98 [==============================] - 31s 295ms/step - loss: 0.3038 - accuracy: 0.9191 - val_loss: 0.3659 - val_accuracy: 0.9316\n",
      "Epoch 26/32\n",
      "98/98 [==============================] - 29s 273ms/step - loss: 0.2572 - accuracy: 0.9268 - val_loss: 0.4012 - val_accuracy: 0.9402\n",
      "Epoch 27/32\n",
      "98/98 [==============================] - 29s 272ms/step - loss: 0.2390 - accuracy: 0.9326 - val_loss: 0.4182 - val_accuracy: 0.9345\n",
      "Epoch 28/32\n",
      "98/98 [==============================] - 21s 189ms/step - loss: 0.2321 - accuracy: 0.9361 - val_loss: 0.4208 - val_accuracy: 0.9288\n",
      "Epoch 29/32\n",
      "98/98 [==============================] - 20s 185ms/step - loss: 0.2185 - accuracy: 0.9361 - val_loss: 0.3890 - val_accuracy: 0.9202\n",
      "Epoch 30/32\n",
      "98/98 [==============================] - 20s 191ms/step - loss: 0.2239 - accuracy: 0.9413 - val_loss: 0.4568 - val_accuracy: 0.9373\n",
      "Epoch 31/32\n",
      "98/98 [==============================] - 20s 191ms/step - loss: 0.1806 - accuracy: 0.9509 - val_loss: 0.3808 - val_accuracy: 0.9402\n",
      "Epoch 32/32\n",
      "98/98 [==============================] - 20s 189ms/step - loss: 0.1429 - accuracy: 0.9605 - val_loss: 0.3317 - val_accuracy: 0.9487\n"
     ]
    }
   ],
   "source": [
    "training_history=cnn.fit(x=training_set,validation_data=validation_set,epochs=32)"
   ]
  },
  {
   "cell_type": "markdown",
   "metadata": {},
   "source": [
    "# Saving Model"
   ]
  },
  {
   "cell_type": "code",
   "execution_count": 46,
   "metadata": {},
   "outputs": [],
   "source": [
    "cnn.save('training_model.h5')"
   ]
  },
  {
   "cell_type": "code",
   "execution_count": 47,
   "metadata": {},
   "outputs": [
    {
     "data": {
      "text/plain": [
       "{'loss': [5.1111226081848145,\n",
       "  3.4196090698242188,\n",
       "  3.2782628536224365,\n",
       "  3.1303048133850098,\n",
       "  2.9127392768859863,\n",
       "  2.597597360610962,\n",
       "  2.2135074138641357,\n",
       "  1.9299205541610718,\n",
       "  1.5645538568496704,\n",
       "  1.2864936590194702,\n",
       "  1.096810221672058,\n",
       "  0.8041285872459412,\n",
       "  0.8737143874168396,\n",
       "  0.6858355402946472,\n",
       "  0.6087188124656677,\n",
       "  0.5548797845840454,\n",
       "  0.43247392773628235,\n",
       "  0.431071937084198,\n",
       "  0.41137486696243286,\n",
       "  0.3200397193431854,\n",
       "  0.3433704674243927,\n",
       "  0.2634676694869995,\n",
       "  0.28690317273139954,\n",
       "  0.27837902307510376,\n",
       "  0.30378785729408264,\n",
       "  0.2571786642074585,\n",
       "  0.23896780610084534,\n",
       "  0.232127845287323,\n",
       "  0.21845141053199768,\n",
       "  0.22391892969608307,\n",
       "  0.18055292963981628,\n",
       "  0.14287342131137848],\n",
       " 'accuracy': [0.041733548045158386,\n",
       "  0.061637237668037415,\n",
       "  0.0760834664106369,\n",
       "  0.1184590682387352,\n",
       "  0.17046548426151276,\n",
       "  0.26452648639678955,\n",
       "  0.38298556208610535,\n",
       "  0.4430176615715027,\n",
       "  0.555377185344696,\n",
       "  0.6410914659500122,\n",
       "  0.6908507347106934,\n",
       "  0.7678972482681274,\n",
       "  0.7653290629386902,\n",
       "  0.8125200867652893,\n",
       "  0.838523268699646,\n",
       "  0.8465489745140076,\n",
       "  0.877046525478363,\n",
       "  0.8847512006759644,\n",
       "  0.8924558758735657,\n",
       "  0.9146067500114441,\n",
       "  0.9081861972808838,\n",
       "  0.9252006411552429,\n",
       "  0.9207062721252441,\n",
       "  0.9264847636222839,\n",
       "  0.9191011190414429,\n",
       "  0.9268057942390442,\n",
       "  0.932584285736084,\n",
       "  0.936115562915802,\n",
       "  0.936115562915802,\n",
       "  0.9412519931793213,\n",
       "  0.9508828520774841,\n",
       "  0.9605136513710022],\n",
       " 'val_loss': [3.433929681777954,\n",
       "  3.3361754417419434,\n",
       "  2.9276623725891113,\n",
       "  2.698847532272339,\n",
       "  2.3194944858551025,\n",
       "  1.917492151260376,\n",
       "  1.733400583267212,\n",
       "  1.2719757556915283,\n",
       "  1.1165621280670166,\n",
       "  0.8897383213043213,\n",
       "  0.7076111435890198,\n",
       "  0.6680796146392822,\n",
       "  0.5848801732063293,\n",
       "  0.641352653503418,\n",
       "  0.5271962285041809,\n",
       "  0.5094985961914062,\n",
       "  0.5363112092018127,\n",
       "  0.43117383122444153,\n",
       "  0.45781126618385315,\n",
       "  0.4786999821662903,\n",
       "  0.38218724727630615,\n",
       "  0.4050556719303131,\n",
       "  0.46876201033592224,\n",
       "  0.5709060430526733,\n",
       "  0.3658919334411621,\n",
       "  0.4012444317340851,\n",
       "  0.41821545362472534,\n",
       "  0.4207824170589447,\n",
       "  0.38895612955093384,\n",
       "  0.45679035782814026,\n",
       "  0.3807927370071411,\n",
       "  0.33170241117477417],\n",
       " 'val_accuracy': [0.09401709586381912,\n",
       "  0.11965811997652054,\n",
       "  0.202279195189476,\n",
       "  0.2849002778530121,\n",
       "  0.40740740299224854,\n",
       "  0.5071225166320801,\n",
       "  0.5754985809326172,\n",
       "  0.6552706360816956,\n",
       "  0.7207977175712585,\n",
       "  0.8062677979469299,\n",
       "  0.8547008633613586,\n",
       "  0.8347578644752502,\n",
       "  0.8575498461723328,\n",
       "  0.8774929046630859,\n",
       "  0.8774929046630859,\n",
       "  0.9002848863601685,\n",
       "  0.8974359035491943,\n",
       "  0.9287749528884888,\n",
       "  0.9373219609260559,\n",
       "  0.9145299196243286,\n",
       "  0.9145299196243286,\n",
       "  0.9230769276618958,\n",
       "  0.9059829115867615,\n",
       "  0.9059829115867615,\n",
       "  0.9316239356994629,\n",
       "  0.94017094373703,\n",
       "  0.934472918510437,\n",
       "  0.9287749528884888,\n",
       "  0.9202279448509216,\n",
       "  0.9373219609260559,\n",
       "  0.94017094373703,\n",
       "  0.9487179517745972]}"
      ]
     },
     "execution_count": 47,
     "metadata": {},
     "output_type": "execute_result"
    }
   ],
   "source": [
    "training_history.history # Return Dictionary of history"
   ]
  },
  {
   "cell_type": "code",
   "execution_count": 48,
   "metadata": {},
   "outputs": [],
   "source": [
    "# Recording the history of training in json file\n",
    "import json\n",
    "with open('training_hist.json', 'w') as f:\n",
    "    json.dump(training_history.history, f)"
   ]
  },
  {
   "cell_type": "code",
   "execution_count": 49,
   "metadata": {},
   "outputs": [
    {
     "name": "stdout",
     "output_type": "stream",
     "text": [
      "dict_keys(['loss', 'accuracy', 'val_loss', 'val_accuracy'])\n"
     ]
    }
   ],
   "source": [
    "print(training_history.history.keys())"
   ]
  },
  {
   "cell_type": "markdown",
   "metadata": {},
   "source": [
    "# Calculating Model's accuracy of Validation set"
   ]
  },
  {
   "cell_type": "code",
   "execution_count": 51,
   "metadata": {},
   "outputs": [
    {
     "name": "stdout",
     "output_type": "stream",
     "text": [
      "Validation Accuracy: 94.87179517745972 %\n"
     ]
    }
   ],
   "source": [
    "print(f\"Validation Accuracy: {training_history.history['val_accuracy'][-1] * 100} %\")"
   ]
  }
 ],
 "metadata": {
  "kernelspec": {
   "display_name": "tensorflow_env",
   "language": "python",
   "name": "python3"
  },
  "language_info": {
   "codemirror_mode": {
    "name": "ipython",
    "version": 3
   },
   "file_extension": ".py",
   "mimetype": "text/x-python",
   "name": "python",
   "nbconvert_exporter": "python",
   "pygments_lexer": "ipython3",
   "version": "3.10.16"
  }
 },
 "nbformat": 4,
 "nbformat_minor": 2
}
